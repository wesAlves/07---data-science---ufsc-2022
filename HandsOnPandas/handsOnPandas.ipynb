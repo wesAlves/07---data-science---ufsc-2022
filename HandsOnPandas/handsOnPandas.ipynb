{
 "cells": [
  {
   "cell_type": "code",
   "execution_count": 3,
   "id": "39ea6138-c895-4e63-906b-903dc4eff4ea",
   "metadata": {},
   "outputs": [
    {
     "data": {
      "text/plain": [
       "Index(['PASSENGERS', 'FREIGHT', 'MAIL', 'DISTANCE', 'UNIQUE_CARRIER',\n",
       "       'AIRLINE_ID', 'UNIQUE_CARRIER_NAME', 'UNIQUE_CARRIER_ENTITY', 'REGION',\n",
       "       'CARRIER', 'CARRIER_NAME', 'CARRIER_GROUP', 'CARRIER_GROUP_NEW',\n",
       "       'ORIGIN_AIRPORT_ID', 'ORIGIN_AIRPORT_SEQ_ID', 'ORIGIN_CITY_MARKET_ID',\n",
       "       'ORIGIN', 'ORIGIN_CITY_NAME', 'ORIGIN_STATE_ABR', 'ORIGIN_STATE_FIPS',\n",
       "       'ORIGIN_STATE_NM', 'ORIGIN_COUNTRY', 'ORIGIN_COUNTRY_NAME',\n",
       "       'ORIGIN_WAC', 'DEST_AIRPORT_ID', 'DEST_AIRPORT_SEQ_ID',\n",
       "       'DEST_CITY_MARKET_ID', 'DEST', 'DEST_CITY_NAME', 'DEST_STATE_ABR',\n",
       "       'DEST_STATE_FIPS', 'DEST_STATE_NM', 'DEST_COUNTRY', 'DEST_COUNTRY_NAME',\n",
       "       'DEST_WAC', 'YEAR', 'QUARTER', 'MONTH', 'DISTANCE_GROUP', 'CLASS',\n",
       "       'DATA_SOURCE'],\n",
       "      dtype='object')"
      ]
     },
     "execution_count": 3,
     "metadata": {},
     "output_type": "execute_result"
    }
   ],
   "source": [
    "import pandas as pd\n",
    "\n",
    "df = pd.read_csv('T_T100_MARKET_ALL_CARRIER.csv')\n",
    "# df.head()\n",
    "df.columns"
   ]
  },
  {
   "cell_type": "code",
   "execution_count": 34,
   "id": "c8cafee4-571e-4ba1-b49b-07da0f2490d1",
   "metadata": {},
   "outputs": [
    {
     "data": {
      "text/plain": [
       "41"
      ]
     },
     "execution_count": 34,
     "metadata": {},
     "output_type": "execute_result"
    }
   ],
   "source": [
    "len(df.columns)"
   ]
  },
  {
   "cell_type": "code",
   "execution_count": 39,
   "id": "b0794263-d3ee-4a0f-9201-3094f65e003f",
   "metadata": {},
   "outputs": [
    {
     "data": {
      "text/plain": [
       "318"
      ]
     },
     "execution_count": 39,
     "metadata": {},
     "output_type": "execute_result"
    }
   ],
   "source": [
    "len(df['UNIQUE_CARRIER_NAME'].unique())"
   ]
  },
  {
   "cell_type": "code",
   "execution_count": 71,
   "id": "734d1fd2-da35-4959-a05c-78879c6aebf5",
   "metadata": {},
   "outputs": [
    {
     "data": {
      "text/plain": [
       "FREIGHT       903296879.0\n",
       "MAIL           29838395.0\n",
       "PASSENGERS     10685614.0\n",
       "dtype: float64"
      ]
     },
     "execution_count": 71,
     "metadata": {},
     "output_type": "execute_result"
    }
   ],
   "source": [
    "df.loc[(df['ORIGIN_COUNTRY_NAME'] == 'United Kingdom') & (df['DEST_COUNTRY_NAME'] == 'United States'), ['FREIGHT', 'MAIL', 'PASSENGERS']].sum()\n",
    "\n"
   ]
  },
  {
   "cell_type": "code",
   "execution_count": 5,
   "id": "5c9b4d43-217b-49d9-a43c-c53f2465de62",
   "metadata": {},
   "outputs": [
    {
     "data": {
      "text/plain": [
       "UNIQUE_CARRIER_NAME\n",
       "Singapore Airlines Ltd.        8440.0\n",
       "Cathay Pacific Airways Ltd.    8020.0\n",
       "South African Airways          7967.0\n",
       "Longtail Aviation Ltd.         7855.5\n",
       "Qantas Airways Ltd.            7853.0\n",
       "Name: DISTANCE, dtype: float64"
      ]
     },
     "execution_count": 5,
     "metadata": {},
     "output_type": "execute_result"
    }
   ],
   "source": [
    "df.groupby('UNIQUE_CARRIER_NAME').median()['DISTANCE'].sort_values(ascending=False).head()\n"
   ]
  },
  {
   "cell_type": "code",
   "execution_count": 58,
   "id": "7d668005-c413-425a-83e8-163f9e3d78b6",
   "metadata": {},
   "outputs": [
    {
     "data": {
      "text/html": [
       "<div>\n",
       "<style scoped>\n",
       "    .dataframe tbody tr th:only-of-type {\n",
       "        vertical-align: middle;\n",
       "    }\n",
       "\n",
       "    .dataframe tbody tr th {\n",
       "        vertical-align: top;\n",
       "    }\n",
       "\n",
       "    .dataframe thead th {\n",
       "        text-align: right;\n",
       "    }\n",
       "</style>\n",
       "<table border=\"1\" class=\"dataframe\">\n",
       "  <thead>\n",
       "    <tr style=\"text-align: right;\">\n",
       "      <th></th>\n",
       "      <th>FREIGHT</th>\n",
       "      <th>MAIL</th>\n",
       "      <th>TOTAL</th>\n",
       "    </tr>\n",
       "  </thead>\n",
       "  <tbody>\n",
       "    <tr>\n",
       "      <th>54180</th>\n",
       "      <td>105077869.0</td>\n",
       "      <td>5849.0</td>\n",
       "      <td>105083718.0</td>\n",
       "    </tr>\n",
       "    <tr>\n",
       "      <th>19720</th>\n",
       "      <td>61061463.0</td>\n",
       "      <td>5492.0</td>\n",
       "      <td>61066955.0</td>\n",
       "    </tr>\n",
       "    <tr>\n",
       "      <th>50058</th>\n",
       "      <td>44301137.0</td>\n",
       "      <td>0.0</td>\n",
       "      <td>44301137.0</td>\n",
       "    </tr>\n",
       "    <tr>\n",
       "      <th>1548</th>\n",
       "      <td>44252519.0</td>\n",
       "      <td>0.0</td>\n",
       "      <td>44252519.0</td>\n",
       "    </tr>\n",
       "    <tr>\n",
       "      <th>34949</th>\n",
       "      <td>41962565.0</td>\n",
       "      <td>0.0</td>\n",
       "      <td>41962565.0</td>\n",
       "    </tr>\n",
       "    <tr>\n",
       "      <th>41132</th>\n",
       "      <td>41550544.0</td>\n",
       "      <td>0.0</td>\n",
       "      <td>41550544.0</td>\n",
       "    </tr>\n",
       "    <tr>\n",
       "      <th>41903</th>\n",
       "      <td>40854272.0</td>\n",
       "      <td>0.0</td>\n",
       "      <td>40854272.0</td>\n",
       "    </tr>\n",
       "    <tr>\n",
       "      <th>14265</th>\n",
       "      <td>40446788.0</td>\n",
       "      <td>0.0</td>\n",
       "      <td>40446788.0</td>\n",
       "    </tr>\n",
       "    <tr>\n",
       "      <th>46749</th>\n",
       "      <td>39731643.0</td>\n",
       "      <td>0.0</td>\n",
       "      <td>39731643.0</td>\n",
       "    </tr>\n",
       "    <tr>\n",
       "      <th>23220</th>\n",
       "      <td>39484298.0</td>\n",
       "      <td>0.0</td>\n",
       "      <td>39484298.0</td>\n",
       "    </tr>\n",
       "  </tbody>\n",
       "</table>\n",
       "</div>"
      ],
      "text/plain": [
       "           FREIGHT    MAIL        TOTAL\n",
       "54180  105077869.0  5849.0  105083718.0\n",
       "19720   61061463.0  5492.0   61066955.0\n",
       "50058   44301137.0     0.0   44301137.0\n",
       "1548    44252519.0     0.0   44252519.0\n",
       "34949   41962565.0     0.0   41962565.0\n",
       "41132   41550544.0     0.0   41550544.0\n",
       "41903   40854272.0     0.0   40854272.0\n",
       "14265   40446788.0     0.0   40446788.0\n",
       "46749   39731643.0     0.0   39731643.0\n",
       "23220   39484298.0     0.0   39484298.0"
      ]
     },
     "execution_count": 58,
     "metadata": {},
     "output_type": "execute_result"
    }
   ],
   "source": [
    "ten_most = df.sort_values('FREIGHT', ascending=False)[0:10]\n",
    "ten_most['TOTAL'] = ten_most['FREIGHT'] + ten_most['MAIL']\n",
    "\n",
    "ten_most[['FREIGHT', 'MAIL', 'TOTAL']]\n",
    "\n"
   ]
  },
  {
   "cell_type": "code",
   "execution_count": 98,
   "id": "22d7b4ba-a3b8-43e1-a8a2-c78458bf206d",
   "metadata": {},
   "outputs": [
    {
     "data": {
      "text/html": [
       "<div>\n",
       "<style scoped>\n",
       "    .dataframe tbody tr th:only-of-type {\n",
       "        vertical-align: middle;\n",
       "    }\n",
       "\n",
       "    .dataframe tbody tr th {\n",
       "        vertical-align: top;\n",
       "    }\n",
       "\n",
       "    .dataframe thead th {\n",
       "        text-align: right;\n",
       "    }\n",
       "</style>\n",
       "<table border=\"1\" class=\"dataframe\">\n",
       "  <thead>\n",
       "    <tr style=\"text-align: right;\">\n",
       "      <th></th>\n",
       "      <th>UNIQUE_CARRIER_NAME</th>\n",
       "      <th>PASSENGERS</th>\n",
       "    </tr>\n",
       "  </thead>\n",
       "  <tbody>\n",
       "    <tr>\n",
       "      <th>321387</th>\n",
       "      <td>Alaska Airlines Inc.</td>\n",
       "      <td>97644.0</td>\n",
       "    </tr>\n",
       "    <tr>\n",
       "      <th>321386</th>\n",
       "      <td>Delta Air Lines Inc.</td>\n",
       "      <td>97329.0</td>\n",
       "    </tr>\n",
       "    <tr>\n",
       "      <th>321385</th>\n",
       "      <td>Alaska Airlines Inc.</td>\n",
       "      <td>97098.0</td>\n",
       "    </tr>\n",
       "    <tr>\n",
       "      <th>321384</th>\n",
       "      <td>Alaska Airlines Inc.</td>\n",
       "      <td>97011.0</td>\n",
       "    </tr>\n",
       "    <tr>\n",
       "      <th>321383</th>\n",
       "      <td>Alaska Airlines Inc.</td>\n",
       "      <td>96984.0</td>\n",
       "    </tr>\n",
       "    <tr>\n",
       "      <th>...</th>\n",
       "      <td>...</td>\n",
       "      <td>...</td>\n",
       "    </tr>\n",
       "    <tr>\n",
       "      <th>38686</th>\n",
       "      <td>Federal Express Corporation</td>\n",
       "      <td>0.0</td>\n",
       "    </tr>\n",
       "    <tr>\n",
       "      <th>38683</th>\n",
       "      <td>Federal Express Corporation</td>\n",
       "      <td>0.0</td>\n",
       "    </tr>\n",
       "    <tr>\n",
       "      <th>38681</th>\n",
       "      <td>Federal Express Corporation</td>\n",
       "      <td>0.0</td>\n",
       "    </tr>\n",
       "    <tr>\n",
       "      <th>38680</th>\n",
       "      <td>Federal Express Corporation</td>\n",
       "      <td>0.0</td>\n",
       "    </tr>\n",
       "    <tr>\n",
       "      <th>0</th>\n",
       "      <td>Miami Air International</td>\n",
       "      <td>0.0</td>\n",
       "    </tr>\n",
       "  </tbody>\n",
       "</table>\n",
       "<p>287115 rows × 2 columns</p>\n",
       "</div>"
      ],
      "text/plain": [
       "                UNIQUE_CARRIER_NAME  PASSENGERS\n",
       "321387         Alaska Airlines Inc.     97644.0\n",
       "321386         Delta Air Lines Inc.     97329.0\n",
       "321385         Alaska Airlines Inc.     97098.0\n",
       "321384         Alaska Airlines Inc.     97011.0\n",
       "321383         Alaska Airlines Inc.     96984.0\n",
       "...                             ...         ...\n",
       "38686   Federal Express Corporation         0.0\n",
       "38683   Federal Express Corporation         0.0\n",
       "38681   Federal Express Corporation         0.0\n",
       "38680   Federal Express Corporation         0.0\n",
       "0           Miami Air International         0.0\n",
       "\n",
       "[287115 rows x 2 columns]"
      ]
     },
     "execution_count": 98,
     "metadata": {},
     "output_type": "execute_result"
    }
   ],
   "source": [
    "df.loc[df['ORIGIN_COUNTRY_NAME'] == 'United States'].sort_values('PASSENGERS', ascending=False)[['UNIQUE_CARRIER_NAME', 'PASSENGERS']]\n",
    "       # , df.sort_values('PASSENGERS', ascending=False)[0:10]]"
   ]
  }
 ],
 "metadata": {
  "kernelspec": {
   "display_name": "Python 3 (ipykernel)",
   "language": "python",
   "name": "python3"
  },
  "language_info": {
   "codemirror_mode": {
    "name": "ipython",
    "version": 3
   },
   "file_extension": ".py",
   "mimetype": "text/x-python",
   "name": "python",
   "nbconvert_exporter": "python",
   "pygments_lexer": "ipython3",
   "version": "3.10.4"
  }
 },
 "nbformat": 4,
 "nbformat_minor": 5
}
